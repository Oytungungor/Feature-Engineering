{
 "cells": [
  {
   "cell_type": "markdown",
   "id": "33812532-e5b1-41ba-be67-4a5ca3520fcc",
   "metadata": {
    "jp-MarkdownHeadingCollapsed": true
   },
   "source": [
    "# Contents\n",
    "1. [What is Encoding?](#What-is-Encoding?)\n",
    "2. [Coding Practice for Encoding](#Coding-Practice-for-Encoding)"
   ]
  },
  {
   "cell_type": "markdown",
   "id": "c45e7471-17ea-4573-91a3-fff2ac3d3e94",
   "metadata": {},
   "source": [
    "# What is Encoding?"
   ]
  },
  {
   "cell_type": "markdown",
   "id": "4c181424-da0b-4e90-8d43-6b2a98c134a2",
   "metadata": {},
   "source": [
    "    Machine learning models only work with numeric values. For this reason, categorical features need to be converted into numeric values. "
   ]
  },
  {
   "cell_type": "markdown",
   "id": "f4890e61-2261-474d-8ae5-9f075578e445",
   "metadata": {},
   "source": [
    " #### Label Encoding\n",
    "    - It matches each categorical value with a unique integer.\n",
    "    - It is a simple and fast method.\n",
    "    - However, it assumes an ordered relationship between categories, which may not always be true.\n",
    "\n",
    "#### Ordinal Encoding\n",
    "    - It is used when categorical values are ordered.\n",
    "    - Categories are encoded with integers according to their order.\n",
    "    - For example, encoding the categories \"low\", \"medium\", \"high\" as 1, 2, 3 respectively.\n",
    "\n",
    "#### One-Hot Encoding:\n",
    "    - It converts each categorical value into binary columns.\n",
    "    - Each column indicates whether a specific category exists or not.\n",
    "    - It does not assume an ordered relationship and is generally suitable for features with many categorical values.\n",
    "\n",
    "\n"
   ]
  },
  {
   "cell_type": "markdown",
   "id": "db145529-94d7-4970-a36d-152f758dabe9",
   "metadata": {},
   "source": [
    "## Examples"
   ]
  },
  {
   "cell_type": "markdown",
   "id": "a3700b96-1ce8-4bff-97ea-ed51d97ad485",
   "metadata": {},
   "source": [
    "**Label Encoding**\n",
    "\n",
    "    Label encoding assigns each unique category in a feature an integer value. This method is simple and efficient but can introduce a misleading ordinal relationship.\n",
    "\n",
    "**Example:**\n",
    "\n",
    "    Let’s say we have a categorical feature representing fruit types:"
   ]
  },
  {
   "cell_type": "code",
   "execution_count": 74,
   "id": "5b81d2a1-1544-4afa-8c39-1873f779030d",
   "metadata": {},
   "outputs": [
    {
     "data": {
      "text/plain": [
       "['apple', 'banana', 'cherry', 'apple', 'banana', 'cherry']"
      ]
     },
     "execution_count": 74,
     "metadata": {},
     "output_type": "execute_result"
    }
   ],
   "source": [
    "['apple', 'banana', 'cherry', 'apple', 'banana', 'cherry']"
   ]
  },
  {
   "cell_type": "code",
   "execution_count": null,
   "id": "b1af5a00-b2ce-4a5d-afdb-87ff9968296e",
   "metadata": {},
   "outputs": [],
   "source": [
    "#after label encoding\n",
    "['apple', 'banana', 'cherry'] -> [0, 1, 2]\n",
    "['apple', 'banana', 'cherry', 'apple', 'banana', 'cherry'] -> [0, 1, 2, 0, 1, 2]"
   ]
  },
  {
   "cell_type": "markdown",
   "id": "28004fce-62b5-43f3-85f7-eb52749e6312",
   "metadata": {},
   "source": [
    "**Ordinal Encoding**\n",
    "\n",
    "    Ordinal encoding is used when the categories have a clear order or ranking. Each category is assigned a numerical value based on this order.\n",
    "\n",
    "**Example:**\n",
    "\n",
    "Consider a feature representing education levels:"
   ]
  },
  {
   "cell_type": "code",
   "execution_count": null,
   "id": "d17de5f2-52b5-4b90-9518-6091a93d5b18",
   "metadata": {},
   "outputs": [],
   "source": [
    "['High School', 'Bachelor', 'Master', 'PhD']"
   ]
  },
  {
   "cell_type": "code",
   "execution_count": null,
   "id": "cda6236c-9138-4389-b80b-852d8924dfc2",
   "metadata": {},
   "outputs": [],
   "source": [
    "#after ordinal encoding\n",
    "['High School', 'Bachelor', 'Master', 'PhD'] -> [0, 1, 2, 3]\n"
   ]
  },
  {
   "cell_type": "markdown",
   "id": "f47e2a7e-7503-40b0-9f31-0e459e953609",
   "metadata": {},
   "source": [
    "**One Hot Encoding**\n",
    "\n",
    "    One-hot encoding creates a new binary column for each category in the feature. Each observation is represented with a 1 in the column corresponding to its category and 0s in all other columns.\n",
    "\n",
    "**Example:**\n",
    "\n",
    "    For the same fruit types example:"
   ]
  },
  {
   "cell_type": "code",
   "execution_count": null,
   "id": "01270825-04e0-4cd9-b7f0-513abaceadb6",
   "metadata": {},
   "outputs": [],
   "source": [
    "['apple', 'banana', 'cherry']"
   ]
  },
  {
   "cell_type": "code",
   "execution_count": null,
   "id": "fc12c959-87eb-417d-98a2-fe521bd7d05a",
   "metadata": {},
   "outputs": [],
   "source": [
    "#after one hot encoding\n",
    "\n",
    "apple  banana  cherry\n",
    "  1       0       0\n",
    "  0       1       0\n",
    "  0       0       1\n",
    "  1       0       0\n",
    "  0       1       0\n",
    "  0       0       1"
   ]
  },
  {
   "cell_type": "markdown",
   "id": "1d6556ee-b5e0-4c78-ac95-8042096e5f68",
   "metadata": {},
   "source": [
    "# Coding Practice for Encoding"
   ]
  },
  {
   "cell_type": "code",
   "execution_count": 76,
   "id": "bcba9de4-95b1-40ca-8823-91a980d5853f",
   "metadata": {},
   "outputs": [],
   "source": [
    "import numpy as np\n",
    "import pandas as pd\n",
    "import matplotlib.pyplot as plt\n"
   ]
  },
  {
   "cell_type": "code",
   "execution_count": 77,
   "id": "6e1541ce-4a1c-4c45-97af-b6527df66c72",
   "metadata": {},
   "outputs": [
    {
     "data": {
      "text/html": [
       "<div>\n",
       "<style scoped>\n",
       "    .dataframe tbody tr th:only-of-type {\n",
       "        vertical-align: middle;\n",
       "    }\n",
       "\n",
       "    .dataframe tbody tr th {\n",
       "        vertical-align: top;\n",
       "    }\n",
       "\n",
       "    .dataframe thead th {\n",
       "        text-align: right;\n",
       "    }\n",
       "</style>\n",
       "<table border=\"1\" class=\"dataframe\">\n",
       "  <thead>\n",
       "    <tr style=\"text-align: right;\">\n",
       "      <th></th>\n",
       "      <th>Fruit</th>\n",
       "      <th>Color</th>\n",
       "      <th>Size</th>\n",
       "      <th>Shape</th>\n",
       "    </tr>\n",
       "  </thead>\n",
       "  <tbody>\n",
       "    <tr>\n",
       "      <th>0</th>\n",
       "      <td>Cherry</td>\n",
       "      <td>Green</td>\n",
       "      <td>Large</td>\n",
       "      <td>Round</td>\n",
       "    </tr>\n",
       "    <tr>\n",
       "      <th>1</th>\n",
       "      <td>Date</td>\n",
       "      <td>Yellow</td>\n",
       "      <td>X-Large</td>\n",
       "      <td>Round</td>\n",
       "    </tr>\n",
       "    <tr>\n",
       "      <th>2</th>\n",
       "      <td>Apple</td>\n",
       "      <td>Yellow</td>\n",
       "      <td>Large</td>\n",
       "      <td>Elongated</td>\n",
       "    </tr>\n",
       "    <tr>\n",
       "      <th>3</th>\n",
       "      <td>Cherry</td>\n",
       "      <td>Blue</td>\n",
       "      <td>Small</td>\n",
       "      <td>Oval</td>\n",
       "    </tr>\n",
       "    <tr>\n",
       "      <th>4</th>\n",
       "      <td>Cherry</td>\n",
       "      <td>Yellow</td>\n",
       "      <td>X-Large</td>\n",
       "      <td>Oval</td>\n",
       "    </tr>\n",
       "    <tr>\n",
       "      <th>...</th>\n",
       "      <td>...</td>\n",
       "      <td>...</td>\n",
       "      <td>...</td>\n",
       "      <td>...</td>\n",
       "    </tr>\n",
       "    <tr>\n",
       "      <th>95</th>\n",
       "      <td>Banana</td>\n",
       "      <td>Yellow</td>\n",
       "      <td>X-Large</td>\n",
       "      <td>Square</td>\n",
       "    </tr>\n",
       "    <tr>\n",
       "      <th>96</th>\n",
       "      <td>Banana</td>\n",
       "      <td>Yellow</td>\n",
       "      <td>Medium</td>\n",
       "      <td>Square</td>\n",
       "    </tr>\n",
       "    <tr>\n",
       "      <th>97</th>\n",
       "      <td>Date</td>\n",
       "      <td>Blue</td>\n",
       "      <td>Large</td>\n",
       "      <td>Oval</td>\n",
       "    </tr>\n",
       "    <tr>\n",
       "      <th>98</th>\n",
       "      <td>Banana</td>\n",
       "      <td>Red</td>\n",
       "      <td>Small</td>\n",
       "      <td>Square</td>\n",
       "    </tr>\n",
       "    <tr>\n",
       "      <th>99</th>\n",
       "      <td>Apple</td>\n",
       "      <td>Green</td>\n",
       "      <td>X-Large</td>\n",
       "      <td>Round</td>\n",
       "    </tr>\n",
       "  </tbody>\n",
       "</table>\n",
       "<p>100 rows × 4 columns</p>\n",
       "</div>"
      ],
      "text/plain": [
       "     Fruit   Color     Size      Shape\n",
       "0   Cherry   Green    Large      Round\n",
       "1     Date  Yellow  X-Large      Round\n",
       "2    Apple  Yellow    Large  Elongated\n",
       "3   Cherry    Blue    Small       Oval\n",
       "4   Cherry  Yellow  X-Large       Oval\n",
       "..     ...     ...      ...        ...\n",
       "95  Banana  Yellow  X-Large     Square\n",
       "96  Banana  Yellow   Medium     Square\n",
       "97    Date    Blue    Large       Oval\n",
       "98  Banana     Red    Small     Square\n",
       "99   Apple   Green  X-Large      Round\n",
       "\n",
       "[100 rows x 4 columns]"
      ]
     },
     "execution_count": 77,
     "metadata": {},
     "output_type": "execute_result"
    }
   ],
   "source": [
    "data = pd.read_csv(\"/Users/data/Desktop/encoded_dataset1.csv\")\n",
    "data"
   ]
  },
  {
   "cell_type": "code",
   "execution_count": 78,
   "id": "3473ed96-9ac5-4d31-b502-1a7c05f6760d",
   "metadata": {},
   "outputs": [],
   "source": [
    "#For fruit feature: One hot encoding\n",
    "#For color feature: Label encoding\n",
    "#For size feature: Ordinal encoding\n",
    "#For shape feature: One hot encoding"
   ]
  },
  {
   "cell_type": "code",
   "execution_count": 79,
   "id": "e01f5541-7b71-4d94-a0c0-4aaee69ab4d0",
   "metadata": {
    "scrolled": true
   },
   "outputs": [
    {
     "name": "stdout",
     "output_type": "stream",
     "text": [
      "    Color     Size      Shape  Fruit_Apple  Fruit_Banana  Fruit_Cherry  \\\n",
      "0   Green    Large      Round        False         False          True   \n",
      "1  Yellow  X-Large      Round        False         False         False   \n",
      "2  Yellow    Large  Elongated         True         False         False   \n",
      "3    Blue    Small       Oval        False         False          True   \n",
      "4  Yellow  X-Large       Oval        False         False          True   \n",
      "\n",
      "   Fruit_Date  \n",
      "0       False  \n",
      "1        True  \n",
      "2       False  \n",
      "3       False  \n",
      "4       False  \n"
     ]
    }
   ],
   "source": [
    "#one hot encoding\n",
    "\n",
    "fruit = pd.get_dummies(data['Fruit'], prefix='Fruit')\n",
    "data = pd.concat([data, fruit], axis=1)\n",
    "\n",
    "\n",
    "data = data.drop('Fruit', axis=1)\n",
    "\n",
    "\n",
    "print(data.head())"
   ]
  },
  {
   "cell_type": "code",
   "execution_count": 80,
   "id": "a54d6ae9-61f8-457b-b5ff-21476ae50a79",
   "metadata": {},
   "outputs": [
    {
     "name": "stdout",
     "output_type": "stream",
     "text": [
      "    Color     Size      Shape  Fruit_Apple  Fruit_Banana  Fruit_Cherry  \\\n",
      "0   Green    Large      Round        False         False          True   \n",
      "1  Yellow  X-Large      Round        False         False         False   \n",
      "2  Yellow    Large  Elongated         True         False         False   \n",
      "3    Blue    Small       Oval        False         False          True   \n",
      "4  Yellow  X-Large       Oval        False         False          True   \n",
      "\n",
      "   Fruit_Date  Color_Label  \n",
      "0       False            1  \n",
      "1        True            3  \n",
      "2       False            3  \n",
      "3       False            0  \n",
      "4       False            3  \n"
     ]
    }
   ],
   "source": [
    "# label encoding\n",
    "\n",
    "label_encoder = LabelEncoder()\n",
    "\n",
    "\n",
    "data['Color_Label'] = label_encoder.fit_transform(data['Color'])\n",
    "\n",
    "\n",
    "print(data.head())"
   ]
  },
  {
   "cell_type": "code",
   "execution_count": 81,
   "id": "300ab00b-1697-4495-a08c-7861aee5c890",
   "metadata": {},
   "outputs": [
    {
     "name": "stdout",
     "output_type": "stream",
     "text": [
      "['Blue' 'Green' 'Red' 'Yellow']\n",
      "[0 1 2 3]\n"
     ]
    }
   ],
   "source": [
    "print(label_encoder.classes_)\n",
    "print(label_encoder.transform(label_encoder.classes_))\n"
   ]
  },
  {
   "cell_type": "code",
   "execution_count": 82,
   "id": "ccbcc8fb-758b-4cbd-bac4-7484b0894395",
   "metadata": {},
   "outputs": [],
   "source": [
    "# Ordinal Encoding\n",
    "\n",
    "# creating size mapping\n",
    "\n",
    "size_mapping = {'Small': 1, 'Medium': 2, 'Large': 3, 'X-Large': 4}"
   ]
  },
  {
   "cell_type": "code",
   "execution_count": 83,
   "id": "5204965b-1972-4967-8d78-7ff3f9ccf14b",
   "metadata": {},
   "outputs": [
    {
     "name": "stdout",
     "output_type": "stream",
     "text": [
      "    Color     Size      Shape  Fruit_Apple  Fruit_Banana  Fruit_Cherry  \\\n",
      "0   Green    Large      Round        False         False          True   \n",
      "1  Yellow  X-Large      Round        False         False         False   \n",
      "2  Yellow    Large  Elongated         True         False         False   \n",
      "3    Blue    Small       Oval        False         False          True   \n",
      "4  Yellow  X-Large       Oval        False         False          True   \n",
      "\n",
      "   Fruit_Date  Color_Label  Size_Ordinal  \n",
      "0       False            1             3  \n",
      "1        True            3             4  \n",
      "2       False            3             3  \n",
      "3       False            0             1  \n",
      "4       False            3             4  \n"
     ]
    },
    {
     "data": {
      "text/html": [
       "<div>\n",
       "<style scoped>\n",
       "    .dataframe tbody tr th:only-of-type {\n",
       "        vertical-align: middle;\n",
       "    }\n",
       "\n",
       "    .dataframe tbody tr th {\n",
       "        vertical-align: top;\n",
       "    }\n",
       "\n",
       "    .dataframe thead th {\n",
       "        text-align: right;\n",
       "    }\n",
       "</style>\n",
       "<table border=\"1\" class=\"dataframe\">\n",
       "  <thead>\n",
       "    <tr style=\"text-align: right;\">\n",
       "      <th></th>\n",
       "      <th>Color</th>\n",
       "      <th>Shape</th>\n",
       "      <th>Fruit_Apple</th>\n",
       "      <th>Fruit_Banana</th>\n",
       "      <th>Fruit_Cherry</th>\n",
       "      <th>Fruit_Date</th>\n",
       "      <th>Color_Label</th>\n",
       "      <th>Size_Ordinal</th>\n",
       "    </tr>\n",
       "  </thead>\n",
       "  <tbody>\n",
       "    <tr>\n",
       "      <th>0</th>\n",
       "      <td>Green</td>\n",
       "      <td>Round</td>\n",
       "      <td>False</td>\n",
       "      <td>False</td>\n",
       "      <td>True</td>\n",
       "      <td>False</td>\n",
       "      <td>1</td>\n",
       "      <td>3</td>\n",
       "    </tr>\n",
       "    <tr>\n",
       "      <th>1</th>\n",
       "      <td>Yellow</td>\n",
       "      <td>Round</td>\n",
       "      <td>False</td>\n",
       "      <td>False</td>\n",
       "      <td>False</td>\n",
       "      <td>True</td>\n",
       "      <td>3</td>\n",
       "      <td>4</td>\n",
       "    </tr>\n",
       "    <tr>\n",
       "      <th>2</th>\n",
       "      <td>Yellow</td>\n",
       "      <td>Elongated</td>\n",
       "      <td>True</td>\n",
       "      <td>False</td>\n",
       "      <td>False</td>\n",
       "      <td>False</td>\n",
       "      <td>3</td>\n",
       "      <td>3</td>\n",
       "    </tr>\n",
       "    <tr>\n",
       "      <th>3</th>\n",
       "      <td>Blue</td>\n",
       "      <td>Oval</td>\n",
       "      <td>False</td>\n",
       "      <td>False</td>\n",
       "      <td>True</td>\n",
       "      <td>False</td>\n",
       "      <td>0</td>\n",
       "      <td>1</td>\n",
       "    </tr>\n",
       "    <tr>\n",
       "      <th>4</th>\n",
       "      <td>Yellow</td>\n",
       "      <td>Oval</td>\n",
       "      <td>False</td>\n",
       "      <td>False</td>\n",
       "      <td>True</td>\n",
       "      <td>False</td>\n",
       "      <td>3</td>\n",
       "      <td>4</td>\n",
       "    </tr>\n",
       "  </tbody>\n",
       "</table>\n",
       "</div>"
      ],
      "text/plain": [
       "    Color      Shape  Fruit_Apple  Fruit_Banana  Fruit_Cherry  Fruit_Date  \\\n",
       "0   Green      Round        False         False          True       False   \n",
       "1  Yellow      Round        False         False         False        True   \n",
       "2  Yellow  Elongated         True         False         False       False   \n",
       "3    Blue       Oval        False         False          True       False   \n",
       "4  Yellow       Oval        False         False          True       False   \n",
       "\n",
       "   Color_Label  Size_Ordinal  \n",
       "0            1             3  \n",
       "1            3             4  \n",
       "2            3             3  \n",
       "3            0             1  \n",
       "4            3             4  "
      ]
     },
     "execution_count": 83,
     "metadata": {},
     "output_type": "execute_result"
    }
   ],
   "source": [
    "data['Size_Ordinal'] = data['Size'].map(size_mapping)\n",
    "print(data.head())\n",
    "#drop size column\n",
    "\n",
    "data = data.drop(['Size'],axis=1)\n",
    "data.head()"
   ]
  },
  {
   "cell_type": "code",
   "execution_count": 84,
   "id": "30172d26-c1d4-41da-adac-796a98f6f77b",
   "metadata": {},
   "outputs": [
    {
     "name": "stdout",
     "output_type": "stream",
     "text": [
      "    Color  Fruit_Apple  Fruit_Banana  Fruit_Cherry  Fruit_Date  Color_Label  \\\n",
      "0   Green        False         False          True       False            1   \n",
      "1  Yellow        False         False         False        True            3   \n",
      "2  Yellow         True         False         False       False            3   \n",
      "3    Blue        False         False          True       False            0   \n",
      "4  Yellow        False         False          True       False            3   \n",
      "\n",
      "   Size_Ordinal  Shape_Elongated  Shape_Oval  Shape_Round  Shape_Square  \n",
      "0             3            False       False         True         False  \n",
      "1             4            False       False         True         False  \n",
      "2             3             True       False        False         False  \n",
      "3             1            False        True        False         False  \n",
      "4             4            False        True        False         False  \n"
     ]
    }
   ],
   "source": [
    "#one hot encoding for shape\n",
    "\n",
    "shape = pd.get_dummies(data['Shape'], prefix='Shape')\n",
    "data = pd.concat([data, shape], axis=1)\n",
    "\n",
    "\n",
    "data = data.drop('Shape', axis=1)\n",
    "\n",
    "\n",
    "print(data.head())"
   ]
  },
  {
   "cell_type": "code",
   "execution_count": 85,
   "id": "c0a4a3e7-949b-4e20-9587-522761d2b5f6",
   "metadata": {},
   "outputs": [
    {
     "data": {
      "text/plain": [
       "Color              object\n",
       "Fruit_Apple          bool\n",
       "Fruit_Banana         bool\n",
       "Fruit_Cherry         bool\n",
       "Fruit_Date           bool\n",
       "Color_Label         int64\n",
       "Size_Ordinal        int64\n",
       "Shape_Elongated      bool\n",
       "Shape_Oval           bool\n",
       "Shape_Round          bool\n",
       "Shape_Square         bool\n",
       "dtype: object"
      ]
     },
     "execution_count": 85,
     "metadata": {},
     "output_type": "execute_result"
    }
   ],
   "source": [
    "data.dtypes"
   ]
  },
  {
   "cell_type": "markdown",
   "id": "247c343e-842e-40d3-a591-996fb6409bab",
   "metadata": {},
   "source": [
    "All features has been encoded."
   ]
  },
  {
   "cell_type": "code",
   "execution_count": null,
   "id": "2ab23799-db1d-4ea0-9cef-d8ce68bc0174",
   "metadata": {},
   "outputs": [],
   "source": []
  }
 ],
 "metadata": {
  "kernelspec": {
   "display_name": "Python 3 (ipykernel)",
   "language": "python",
   "name": "python3"
  },
  "language_info": {
   "codemirror_mode": {
    "name": "ipython",
    "version": 3
   },
   "file_extension": ".py",
   "mimetype": "text/x-python",
   "name": "python",
   "nbconvert_exporter": "python",
   "pygments_lexer": "ipython3",
   "version": "3.11.7"
  }
 },
 "nbformat": 4,
 "nbformat_minor": 5
}
